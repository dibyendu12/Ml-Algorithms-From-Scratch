{
 "cells": [
  {
   "cell_type": "code",
   "execution_count": null,
   "metadata": {},
   "outputs": [],
   "source": [
    "import numpy as np\n",
    "\n",
    "import pandas as pd\n",
    "\n",
    "data = pd.DataFrame(data=pd.read_csv('CE.csv'))\n",
    "\n",
    "print(data)"
   ]
  },
  {
   "cell_type": "code",
   "execution_count": null,
   "metadata": {},
   "outputs": [],
   "source": [
    "concepts = np.array(data.iloc[:,0:-1])\n",
    "\n",
    "target = np.array(data.iloc[:,-1])\n",
    "\n",
    "print(target)\n",
    "\n",
    "print(concepts)"
   ]
  },
  {
   "cell_type": "code",
   "execution_count": null,
   "metadata": {},
   "outputs": [],
   "source": [
    "def learn(concepts, target):\n",
    "\n",
    "    specific_h = concepts[0].copy()\n",
    "\n",
    "    print(\"Initialization of specific_h and general_h\")\n",
    "\n",
    "    print(\"specific_h: \",specific_h)\n",
    "\n",
    "    general_h = [[\"?\" for i in range(len(specific_h))] for i in range(len(specific_h))]\n",
    "\n",
    "    print(\"general_h: \",general_h)\n",
    "\n",
    "    print(\"concepts: \",concepts)\n",
    "\n",
    "    for i, h in enumerate(concepts):\n",
    "\n",
    "        if target[i] == \"yes\":\n",
    "\n",
    "            for x in range(len(specific_h)):\n",
    "\n",
    "                #print(\"h[x]\",h[x])\n",
    "\n",
    "                if h[x] != specific_h[x]:\n",
    "\n",
    "                    specific_h[x] = '?'\n",
    "\n",
    "                    general_h[x][x] = '?'\n",
    "\n",
    "        if target[i] == \"no\":\n",
    "\n",
    "            for x in range(len(specific_h)):\n",
    "\n",
    "                if h[x] != specific_h[x]:\n",
    "\n",
    "                    general_h[x][x] = specific_h[x]\n",
    "\n",
    "                else:\n",
    "\n",
    "                    general_h[x][x] = '?'\n",
    "\n",
    "    print(\"\\nSteps of Candidate Elimination Algorithm: \",i+1)\n",
    "\n",
    "    print(\"Specific_h: \",i+1)\n",
    "\n",
    "    print(specific_h,\"\\n\")\n",
    "\n",
    "    print(\"general_h :\", i+1)\n",
    "\n",
    "    print(general_h)\n",
    "\n",
    "    indices = [i for i, val in enumerate(general_h) if val == ['?', '?', '?', '?', '?', '?']]\n",
    "\n",
    "    print(\"\\nIndices\",indices)\n",
    "\n",
    "    for i in indices:\n",
    "\n",
    "        general_h.remove(['?', '?', '?', '?', '?', '?'])\n",
    "\n",
    "    return specific_h, general_h\n",
    "\n",
    "s_final,g_final = learn(concepts, target)\n",
    "\n",
    "print(\"\\nFinal Specific_h:\", s_final, sep=\"\\n\")\n",
    "\n",
    "print(\"Final General_h:\", g_final, sep=\"\\n\")"
   ]
  },
  {
   "cell_type": "code",
   "execution_count": null,
   "metadata": {},
   "outputs": [],
   "source": []
  }
 ],
 "metadata": {
  "kernelspec": {
   "display_name": "Python 3",
   "language": "python",
   "name": "python3"
  },
  "language_info": {
   "codemirror_mode": {
    "name": "ipython",
    "version": 3
   },
   "file_extension": ".py",
   "mimetype": "text/x-python",
   "name": "python",
   "nbconvert_exporter": "python",
   "pygments_lexer": "ipython3",
   "version": "3.6.5"
  }
 },
 "nbformat": 4,
 "nbformat_minor": 2
}
