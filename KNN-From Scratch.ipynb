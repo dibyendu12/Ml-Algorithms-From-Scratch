{
 "cells": [
  {
   "cell_type": "code",
   "execution_count": 74,
   "metadata": {},
   "outputs": [],
   "source": [
    "import pandas as pd\n",
    "import numpy as np\n",
    "from sklearn.datasets import make_classification\n",
    "from sklearn.model_selection import train_test_split\n",
    "import math"
   ]
  },
  {
   "cell_type": "code",
   "execution_count": 337,
   "metadata": {},
   "outputs": [],
   "source": [
    "X, y = make_classification(n_samples=10000, n_features=2, n_informative=2, n_redundant=0,\n",
    "                           n_classes=2, weights=[0.60], class_sep=0.7, random_state=15)\n"
   ]
  },
  {
   "cell_type": "code",
   "execution_count": 338,
   "metadata": {},
   "outputs": [],
   "source": [
    "x_train,x_test,y_train,y_test=train_test_split(X,y,test_size=0.3,stratify=y)"
   ]
  },
  {
   "cell_type": "code",
   "execution_count": 339,
   "metadata": {},
   "outputs": [
    {
     "name": "stdout",
     "output_type": "stream",
     "text": [
      "(7000, 2)\n",
      "(3000, 2)\n",
      "(7000,)\n",
      "(3000,)\n"
     ]
    }
   ],
   "source": [
    "print(x_train.shape)\n",
    "print(x_test.shape)\n",
    "print(y_train.shape)\n",
    "print(y_test.shape)"
   ]
  },
  {
   "cell_type": "code",
   "execution_count": 340,
   "metadata": {},
   "outputs": [],
   "source": [
    "def calculate(x,y):\n",
    "    l={}\n",
    "    distance=0\n",
    "    z=0\n",
    "    for i in x:\n",
    "        j=0\n",
    "        for j in range(len(i)): #Foeach column of train data(x) and test point(y) calculating the distance\n",
    "            distance=distance+((i[j]-y[j])**2)\n",
    "\n",
    "        distance=np.sqrt(distance)\n",
    "        l[z]=distance  #storing the distance in dict here z= location of data point in x\n",
    "        z=z+1\n",
    "    return l"
   ]
  },
  {
   "cell_type": "code",
   "execution_count": 341,
   "metadata": {},
   "outputs": [],
   "source": [
    "def prediction(k,y,neigh):\n",
    "    location=[]   #for the k value we are storing the top low distance points locations \n",
    "    j=0  \n",
    "    for i in neigh:\n",
    "        if j<k:\n",
    "            location.append(i)\n",
    "            j=j+1\n",
    "        else:\n",
    "            break\n",
    "    point=[]\n",
    "    for i in location:\n",
    "        point.append(y[i])\n",
    "    #mojority vote\n",
    "    count_pos=0\n",
    "    count_neg=0\n",
    "    for i in point:\n",
    "        if i==1:\n",
    "            count_pos=count_pos+1\n",
    "        else:\n",
    "            count_neg=count_neg+1\n",
    "    if count_pos>count_neg:\n",
    "        return 1\n",
    "    else:\n",
    "        return 0\n",
    "    "
   ]
  },
  {
   "cell_type": "code",
   "execution_count": 343,
   "metadata": {},
   "outputs": [],
   "source": [
    "from tqdm import tqdm"
   ]
  },
  {
   "cell_type": "code",
   "execution_count": 348,
   "metadata": {},
   "outputs": [
    {
     "name": "stderr",
     "output_type": "stream",
     "text": [
      "100%|██████████████████████████████████████████████████████████████████████████████| 3000/3000 [02:35<00:00, 19.24it/s]\n"
     ]
    }
   ],
   "source": [
    "prediction_values=[]\n",
    "for i in tqdm(x_test): #for each point of x_test we are calculating the neighbour points and distance \n",
    "    qes=calculate(x_train,i)\n",
    "    qes=dict(sorted(qes.items(), key=lambda item: item[1]))\n",
    "    pred=prediction(8,y,qes)\n",
    "    prediction_values.append(pred)"
   ]
  },
  {
   "cell_type": "code",
   "execution_count": 349,
   "metadata": {},
   "outputs": [],
   "source": [
    "def score(prediction_values,y_test):\n",
    "    i=0\n",
    "    count=0\n",
    "    \n",
    "    for i in range(len(prediction_values)):\n",
    "        if prediction_values[i]==y_test[i]:\n",
    "            count=count+1\n",
    "    return count/len(y_test)"
   ]
  },
  {
   "cell_type": "code",
   "execution_count": 350,
   "metadata": {},
   "outputs": [],
   "source": [
    "acc=score(prediction_values,y_test)"
   ]
  },
  {
   "cell_type": "code",
   "execution_count": 351,
   "metadata": {},
   "outputs": [
    {
     "data": {
      "text/plain": [
       "0.6336666666666667"
      ]
     },
     "execution_count": 351,
     "metadata": {},
     "output_type": "execute_result"
    }
   ],
   "source": [
    "acc"
   ]
  },
  {
   "cell_type": "code",
   "execution_count": 197,
   "metadata": {},
   "outputs": [],
   "source": []
  },
  {
   "cell_type": "code",
   "execution_count": null,
   "metadata": {},
   "outputs": [],
   "source": []
  }
 ],
 "metadata": {
  "kernelspec": {
   "display_name": "Python 3",
   "language": "python",
   "name": "python3"
  },
  "language_info": {
   "codemirror_mode": {
    "name": "ipython",
    "version": 3
   },
   "file_extension": ".py",
   "mimetype": "text/x-python",
   "name": "python",
   "nbconvert_exporter": "python",
   "pygments_lexer": "ipython3",
   "version": "3.6.5"
  }
 },
 "nbformat": 4,
 "nbformat_minor": 2
}
